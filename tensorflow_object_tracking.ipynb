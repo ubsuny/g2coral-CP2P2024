{
  "nbformat": 4,
  "nbformat_minor": 0,
  "metadata": {
    "colab": {
      "provenance": [],
      "authorship_tag": "ABX9TyNSn7x34bZsBiWUYO8C+FSA",
      "include_colab_link": true
    },
    "kernelspec": {
      "name": "python3",
      "display_name": "Python 3"
    },
    "language_info": {
      "name": "python"
    }
  },
  "cells": [
    {
      "cell_type": "markdown",
      "metadata": {
        "id": "view-in-github",
        "colab_type": "text"
      },
      "source": [
        "<a href=\"https://colab.research.google.com/github/ubsuny/g2coral-CP2P2024/blob/main/tensorflow_object_tracking.ipynb\" target=\"_parent\"><img src=\"https://colab.research.google.com/assets/colab-badge.svg\" alt=\"Open In Colab\"/></a>"
      ]
    },
    {
      "cell_type": "code",
      "source": [
        "import numpy as np\n",
        "import tensorflow as tf\n",
        "from tensorflow.keras.utils import to_categorical\n",
        "from tensorflow.keras import layers, models\n",
        "import matplotlib.pyplot as plt"
      ],
      "metadata": {
        "id": "PEN7cjZJ78Hi"
      },
      "execution_count": null,
      "outputs": []
    },
    {
      "cell_type": "code",
      "source": [
        "def generate_image(height=28, width=28, radius=5):\n",
        "    \"\"\"\n",
        "    Generate an image of size (height, width) with a white disk of given radius.\n",
        "    The disk's center is randomly placed within the image.\n",
        "\n",
        "    Parameters:\n",
        "    - height: Height of the image.\n",
        "    - width: Width of the image.\n",
        "    - radius: Radius of the white disk.\n",
        "\n",
        "    Returns:\n",
        "    - A 2D NumPy array representing the generated image.\n",
        "    \"\"\"\n",
        "    # Create a black background\n",
        "    image = np.zeros((height, width), dtype=np.uint8)\n",
        "\n",
        "    # Generate random center coordinates within the image dimensions\n",
        "    center_x = np.random.randint(0, width)\n",
        "    center_y = np.random.randint(0, height)\n",
        "\n",
        "    # Calculate the distance of each point from the center\n",
        "    Y, X = np.ogrid[:height, :width]\n",
        "    distance_from_center = np.sqrt((X - center_x)**2 + (Y - center_y)**2)\n",
        "\n",
        "    # Draw the disk\n",
        "    image[distance_from_center <= radius] = 1.0\n",
        "\n",
        "    return image, np.array([center_x, center_y])"
      ],
      "metadata": {
        "id": "057FFT_4-0vd"
      },
      "execution_count": null,
      "outputs": []
    },
    {
      "cell_type": "code",
      "source": [
        "# Display the image\n",
        "\n",
        "lol, _ = generate_image()\n",
        "plt.imshow(lol, cmap='gray')\n",
        "plt.axis('off')  # Turn off axis numbers and ticks\n",
        "plt.show()"
      ],
      "metadata": {
        "colab": {
          "base_uri": "https://localhost:8080/",
          "height": 406
        },
        "id": "zsf6mJzM9Osk",
        "outputId": "52a69b0b-3c59-443a-b893-836afc319612"
      },
      "execution_count": null,
      "outputs": [
        {
          "output_type": "display_data",
          "data": {
            "text/plain": [
              "<Figure size 640x480 with 1 Axes>"
            ],
            "image/png": "[encoded data removed]"
          },
          "metadata": {}
        }
      ]
    },
    {
      "cell_type": "code",
      "source": [
        "# Generate a dataset of images and labels\n",
        "num_samples = 5000  # Number of samples\n",
        "images = []\n",
        "labels = []\n",
        "\n",
        "for _ in range(num_samples):\n",
        "    image, label = generate_image()\n",
        "    images.append(image)\n",
        "    labels.append(label)\n",
        "\n",
        "# Convert lists to numpy arrays\n",
        "images = np.array(images)\n",
        "labels = np.array(labels)\n",
        "\n",
        "# Reshape images to match the input shape expected by Keras (add channel dimension)\n",
        "images = np.expand_dims(images, axis=-1)\n",
        "\n",
        "\n",
        "# Split dataset into training and validation sets (optional)\n",
        "from sklearn.model_selection import train_test_split\n",
        "train_images, val_images, train_labels, val_labels = train_test_split(images, labels, test_size=0.2, random_state=42)\n",
        "\n",
        "# Now you can use train_images, train_labels for training and val_images, val_labels for validation in TensorFlow Keras models."
      ],
      "metadata": {
        "id": "_-9mhnCH8Sf7"
      },
      "execution_count": null,
      "outputs": []
    },
    {
      "cell_type": "code",
      "source": [
        "# Define the CNN model\n",
        "def create_model(input_shape):\n",
        "    model = models.Sequential([\n",
        "        layers.Conv2D(32, (3, 3), activation='relu', input_shape=input_shape),\n",
        "        layers.MaxPooling2D((2, 2)),\n",
        "        layers.Conv2D(64, (3, 3), activation='relu'),\n",
        "        layers.MaxPooling2D((2, 2)),\n",
        "        layers.Conv2D(64, (3, 3), activation='relu'),\n",
        "        layers.Flatten(),\n",
        "        layers.Dense(64, activation='relu'),\n",
        "        layers.Dense(2)  # Two output neurons for x and y coordinates\n",
        "    ])\n",
        "    return model\n",
        "\n",
        "# Create the model\n",
        "input_shape = train_images[0].shape\n",
        "model = create_model(input_shape)\n",
        "\n",
        "# Compile the model\n",
        "model.compile(optimizer='adam',\n",
        "              loss='mse',  # Mean Squared Error loss for regression task\n",
        "              metrics=['mae'])  # Mean Absolute Error metric\n",
        "\n",
        "# Train the model\n",
        "history = model.fit(train_images, train_labels, epochs=10, batch_size=32, validation_data=(val_images, val_labels))\n"
      ],
      "metadata": {
        "colab": {
          "base_uri": "https://localhost:8080/"
        },
        "id": "XK1j7-S39dTQ",
        "outputId": "e813758c-4c68-4b99-9727-96ea5f8cf2fa"
      },
      "execution_count": null,
      "outputs": [
        {
          "output_type": "stream",
          "name": "stdout",
          "text": [
            "Epoch 1/10\n",
            "125/125 [==============================] - 5s 27ms/step - loss: 47.6466 - mae: 4.5466 - val_loss: 8.5945 - val_mae: 1.8510\n",
            "Epoch 2/10\n",
            "125/125 [==============================] - 3s 25ms/step - loss: 4.3994 - mae: 1.2844 - val_loss: 2.6789 - val_mae: 1.0156\n",
            "Epoch 3/10\n",
            "125/125 [==============================] - 3s 26ms/step - loss: 1.4726 - mae: 0.7718 - val_loss: 1.0974 - val_mae: 0.6392\n",
            "Epoch 4/10\n",
            "125/125 [==============================] - 4s 34ms/step - loss: 0.7369 - mae: 0.5848 - val_loss: 0.6213 - val_mae: 0.5217\n",
            "Epoch 5/10\n",
            "125/125 [==============================] - 3s 25ms/step - loss: 0.4338 - mae: 0.4549 - val_loss: 0.4478 - val_mae: 0.4556\n",
            "Epoch 6/10\n",
            "125/125 [==============================] - 3s 24ms/step - loss: 0.3121 - mae: 0.3943 - val_loss: 0.2746 - val_mae: 0.3442\n",
            "Epoch 7/10\n",
            "125/125 [==============================] - 4s 28ms/step - loss: 0.2306 - mae: 0.3393 - val_loss: 0.2137 - val_mae: 0.3117\n",
            "Epoch 8/10\n",
            "125/125 [==============================] - 4s 30ms/step - loss: 0.1773 - mae: 0.2990 - val_loss: 0.2073 - val_mae: 0.3352\n",
            "Epoch 9/10\n",
            "125/125 [==============================] - 3s 25ms/step - loss: 0.1542 - mae: 0.2878 - val_loss: 0.1435 - val_mae: 0.2490\n",
            "Epoch 10/10\n",
            "125/125 [==============================] - 3s 25ms/step - loss: 0.1175 - mae: 0.2468 - val_loss: 0.1117 - val_mae: 0.2282\n"
          ]
        }
      ]
    },
    {
      "cell_type": "code",
      "source": [
        "# Get training history\n",
        "loss = history.history['loss']\n",
        "val_loss = history.history['val_loss']\n",
        "mae = history.history['mae']\n",
        "val_mae = history.history['val_mae']\n",
        "\n",
        "# Plot loss\n",
        "plt.figure(figsize=(12, 6))\n",
        "plt.subplot(1, 2, 1)\n",
        "plt.plot(loss, label='Training Loss')\n",
        "plt.plot(val_loss, label='Validation Loss')\n",
        "plt.title('Training and Validation Loss')\n",
        "plt.xlabel('Epoch')\n",
        "plt.ylabel('Loss')\n",
        "plt.legend()\n",
        "\n",
        "# Plot MAE\n",
        "plt.subplot(1, 2, 2)\n",
        "plt.plot(mae, label='Training MAE')\n",
        "plt.plot(val_mae, label='Validation MAE')\n",
        "plt.title('Training and Validation MAE')\n",
        "plt.xlabel('Epoch')\n",
        "plt.ylabel('MAE')\n",
        "plt.legend()\n",
        "\n",
        "plt.tight_layout()\n",
        "plt.show()\n"
      ],
      "metadata": {
        "colab": {
          "base_uri": "https://localhost:8080/",
          "height": 607
        },
        "id": "D3In-0as97Ak",
        "outputId": "3e75b79e-daa8-43d3-aae8-2c2c7763b174"
      },
      "execution_count": null,
      "outputs": [
        {
          "output_type": "display_data",
          "data": {
            "text/plain": [
              "<Figure size 1200x600 with 2 Axes>"
            ],
            "image/png": "[encoded data removed]"
          },
          "metadata": {}
        }
      ]
    },
    {
      "cell_type": "code",
      "source": [
        "# Generate new images\n",
        "num_new_images = 10\n",
        "new_images = []\n",
        "real_coordinates = []  # Store real coordinates for comparison\n",
        "for _ in range(num_new_images):\n",
        "    image, label = generate_image()\n",
        "    new_images.append(image)\n",
        "    real_coordinates.append(label)\n",
        "\n",
        "# Convert lists to numpy arrays\n",
        "new_images = np.array(new_images)\n",
        "real_coordinates = np.array(real_coordinates)\n",
        "\n",
        "# Preprocess the new images (reshape and normalize)\n",
        "new_images_processed = np.expand_dims(new_images, axis=-1)\n",
        "\n",
        "# Predict the coordinates using the model\n",
        "predictions = model.predict(new_images_processed)\n",
        "\n",
        "# Print both real and predicted coordinates for each image\n",
        "for i in range(num_new_images):\n",
        "    real_x, real_y = real_coordinates[i]\n",
        "    predicted_x, predicted_y = predictions[i]\n",
        "    print(f\"Image {i+1}:\")\n",
        "    print(f\"Real coordinates: ({real_x}, {real_y})\")\n",
        "    print(f\"Predicted coordinates: ({np.round(predicted_x, decimals=1)}, {np.round(predicted_y,decimals=1)})\")\n",
        "    print()  # Print a newline for better readability"
      ],
      "metadata": {
        "colab": {
          "base_uri": "https://localhost:8080/"
        },
        "id": "j6izHwp1_e4r",
        "outputId": "baa2ea01-d0f8-4b43-f4b8-2709f5387316"
      },
      "execution_count": null,
      "outputs": [
        {
          "output_type": "stream",
          "name": "stdout",
          "text": [
            "1/1 [==============================] - 0s 50ms/step\n",
            "Image 1:\n",
            "Real coordinates: (8, 7)\n",
            "Predicted coordinates: (8.100000381469727, 7.0)\n",
            "\n",
            "Image 2:\n",
            "Real coordinates: (18, 8)\n",
            "Predicted coordinates: (18.299999237060547, 8.0)\n",
            "\n",
            "Image 3:\n",
            "Real coordinates: (3, 20)\n",
            "Predicted coordinates: (3.0, 19.600000381469727)\n",
            "\n",
            "Image 4:\n",
            "Real coordinates: (27, 23)\n",
            "Predicted coordinates: (27.100000381469727, 22.600000381469727)\n",
            "\n",
            "Image 5:\n",
            "Real coordinates: (7, 2)\n",
            "Predicted coordinates: (7.099999904632568, 1.899999976158142)\n",
            "\n",
            "Image 6:\n",
            "Real coordinates: (27, 11)\n",
            "Predicted coordinates: (27.200000762939453, 10.699999809265137)\n",
            "\n",
            "Image 7:\n",
            "Real coordinates: (15, 2)\n",
            "Predicted coordinates: (15.100000381469727, 2.0)\n",
            "\n",
            "Image 8:\n",
            "Real coordinates: (17, 15)\n",
            "Predicted coordinates: (17.0, 14.800000190734863)\n",
            "\n",
            "Image 9:\n",
            "Real coordinates: (15, 4)\n",
            "Predicted coordinates: (15.300000190734863, 3.9000000953674316)\n",
            "\n",
            "Image 10:\n",
            "Real coordinates: (22, 25)\n",
            "Predicted coordinates: (22.0, 24.299999237060547)\n",
            "\n"
          ]
        }
      ]
    },
    {
      "cell_type": "markdown",
      "source": [
        "It would not be fair to compare the OpenCV code done in the previous assignment with the TensorFlow code above. That is because the OpenCV code was tested with images of an LED taken with a Baumer cam. However, the above code was tested using simulated images. Simulated images were used because the cameras in the lab were aligned for other purposes."
      ],
      "metadata": {
        "id": "XI3Sgvp-X-8Q"
      }
    }
  ]
}