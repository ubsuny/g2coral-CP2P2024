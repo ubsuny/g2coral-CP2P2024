import numpy as np
import pandas as pd

def create_dataframe(num_photon_detections = 100, num_detectors = 4):
    # Generate column names for detectors
    columns = [f"detector{i}" for i in range(1, num_detectors + 1)]
    
    # Create a dictionary with False values for each column
    data = {col: [False] * num_photon_detections for col in columns}
    
    # Create the DataFrame
    df = pd.DataFrame(data)
    return df

# Ask the user for the number of rows and detectors
num_rows = int(input("Enter the number of photons detected: "))
num_photon_detections = int(input("Enter the number of detectors: "))

# Create the DataFrame
df = create_dataframe(num_rows, num_detectors)

# Display the DataFrame
print(df)
